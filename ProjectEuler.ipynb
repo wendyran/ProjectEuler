{
 "metadata": {
  "name": "ProjectEuler"
 },
 "nbformat": 3,
 "nbformat_minor": 0,
 "worksheets": [
  {
   "cells": [
    {
     "cell_type": "code",
     "collapsed": false,
     "input": [
      "#############09062013###################\n",
      "# 1. Multiples of 3 and 5\n",
      "ans=0\n",
      "for m in range(1,1000):\n",
      "    if m % 3 == 0 or m % 5 == 0:\n",
      "        ans=ans+m\n",
      "print(ans)"
     ],
     "language": "python",
     "metadata": {},
     "outputs": [
      {
       "output_type": "stream",
       "stream": "stdout",
       "text": [
        "233168\n"
       ]
      }
     ],
     "prompt_number": 23
    },
    {
     "cell_type": "code",
     "collapsed": false,
     "input": [
      "# 1. Multiples of 3 and 5\n",
      "sum([x for x in range(1000) if x % 3 == 0 or x % 5 == 0])"
     ],
     "language": "python",
     "metadata": {},
     "outputs": [
      {
       "output_type": "pyout",
       "prompt_number": 33,
       "text": [
        "233168"
       ]
      }
     ],
     "prompt_number": 33
    },
    {
     "cell_type": "code",
     "collapsed": false,
     "input": [
      "#############09272013###################"
     ],
     "language": "python",
     "metadata": {},
     "outputs": [],
     "prompt_number": 1
    },
    {
     "cell_type": "code",
     "collapsed": false,
     "input": [
      "## 2. Fibonacci Numbers\n",
      "sums=0\n",
      "a1=1\n",
      "a2=2\n",
      "while(a2 <= 4000000):\n",
      "    na2=a1+a2\n",
      "    a1=a2\n",
      "    a2=na2\n",
      "    if(a1 % 2 == 0):\n",
      "        sums=sums+a1\n",
      "print(sums)"
     ],
     "language": "python",
     "metadata": {},
     "outputs": [
      {
       "output_type": "stream",
       "stream": "stdout",
       "text": [
        "4613732\n"
       ]
      }
     ],
     "prompt_number": 2
    },
    {
     "cell_type": "code",
     "collapsed": false,
     "input": [
      "#######3. Largest Prime Factor\n",
      "### Pyprimes\n",
      "import scipy\n",
      "import pyprimes\n",
      "pyprimes\n",
      "pyprimes.factors(600851475143)"
     ],
     "language": "python",
     "metadata": {},
     "outputs": [
      {
       "output_type": "pyout",
       "prompt_number": 3,
       "text": [
        "[71, 839, 1471, 6857]"
       ]
      }
     ],
     "prompt_number": 3
    },
    {
     "cell_type": "code",
     "collapsed": false,
     "input": [
      "max(pyprimes.factors(600851475143))"
     ],
     "language": "python",
     "metadata": {},
     "outputs": [
      {
       "output_type": "pyout",
       "prompt_number": 4,
       "text": [
        "6857"
       ]
      }
     ],
     "prompt_number": 4
    },
    {
     "cell_type": "code",
     "collapsed": false,
     "input": [
      "####\n",
      "n=600851475143\n",
      "i=2\n",
      "while (i * i < n):\n",
      "    if(n % i == 0):\n",
      "        n=n/i\n",
      "    i=i+1\n",
      "print(n)"
     ],
     "language": "python",
     "metadata": {},
     "outputs": [
      {
       "output_type": "stream",
       "stream": "stdout",
       "text": [
        "6857\n"
       ]
      }
     ],
     "prompt_number": 5
    },
    {
     "cell_type": "code",
     "collapsed": false,
     "input": [
      "####### 4. Palindrome Product\n",
      "list_a = ['1','2','3','4','5','6','7','8']\n",
      "list_a[::-1]\n"
     ],
     "language": "python",
     "metadata": {},
     "outputs": [
      {
       "output_type": "pyout",
       "prompt_number": 6,
       "text": [
        "['8', '7', '6', '5', '4', '3', '2', '1']"
       ]
      }
     ],
     "prompt_number": 6
    },
    {
     "cell_type": "code",
     "collapsed": false,
     "input": [
      "int(str(311)[::-1])"
     ],
     "language": "python",
     "metadata": {},
     "outputs": [
      {
       "output_type": "pyout",
       "prompt_number": 7,
       "text": [
        "113"
       ]
      }
     ],
     "prompt_number": 7
    },
    {
     "cell_type": "code",
     "collapsed": false,
     "input": [
      "#############10112013###################"
     ],
     "language": "python",
     "metadata": {},
     "outputs": [],
     "prompt_number": 9
    },
    {
     "cell_type": "code",
     "collapsed": false,
     "input": [
      "z=0\n",
      "for i in range(999,100,-1):\n",
      "    for j in range(999,100,-1):\n",
      "        if i*j==int(str(i*j)[::-1]):\n",
      "            if i*j>z:\n",
      "                z=i*j"
     ],
     "language": "python",
     "metadata": {},
     "outputs": [],
     "prompt_number": 10
    },
    {
     "cell_type": "code",
     "collapsed": false,
     "input": [
      "z"
     ],
     "language": "python",
     "metadata": {},
     "outputs": [
      {
       "output_type": "pyout",
       "prompt_number": 11,
       "text": [
        "906609"
       ]
      }
     ],
     "prompt_number": 11
    },
    {
     "cell_type": "code",
     "collapsed": false,
     "input": [
      "#############10182013###################"
     ],
     "language": "python",
     "metadata": {},
     "outputs": [],
     "prompt_number": 12
    },
    {
     "cell_type": "code",
     "collapsed": false,
     "input": [
      "###### 5. Smallest Multiple\n",
      "#k=2520\n",
      "#m=k*11*13*17*19\n",
      "#while i in range(2520,m,1):\n",
      "#    if i % 11 != 0:\n",
      "#        i=i+1\n",
      "#    elif i % 13 != 0:\n",
      "#        i=i+1\n",
      "#    elif i % 17 != 0:\n",
      "#        i=i+1\n",
      "#    elif i % 19 != 0:\n",
      "#        i=i+1\n",
      "#    else:\n",
      "#        s=i\n",
      "#print s"
     ],
     "language": "python",
     "metadata": {},
     "outputs": [],
     "prompt_number": 19
    },
    {
     "cell_type": "code",
     "collapsed": false,
     "input": [
      "2*3*4*5*7*3"
     ],
     "language": "python",
     "metadata": {},
     "outputs": [
      {
       "output_type": "pyout",
       "prompt_number": 18,
       "text": [
        "2520"
       ]
      }
     ],
     "prompt_number": 18
    },
    {
     "cell_type": "code",
     "collapsed": false,
     "input": [
      "a=2*3*4*5*7*3*11*13*2*17*19\n",
      "print a\n",
      "# all(map(lambda x: a % x == 0, range(1, 21)))"
     ],
     "language": "python",
     "metadata": {},
     "outputs": [
      {
       "output_type": "stream",
       "stream": "stdout",
       "text": [
        "232792560\n"
       ]
      }
     ],
     "prompt_number": 29
    },
    {
     "cell_type": "code",
     "collapsed": false,
     "input": [
      "##### 6. Sum square difference\n",
      "dd = 0\n",
      "for i in range(1, 100, 1):\n",
      "    for j in range(i + 1, 101, 1):\n",
      "        dd = dd + 2 * i * j\n",
      "print dd"
     ],
     "language": "python",
     "metadata": {},
     "outputs": [
      {
       "output_type": "stream",
       "stream": "stdout",
       "text": [
        "25164150\n"
       ]
      }
     ],
     "prompt_number": 23
    },
    {
     "cell_type": "code",
     "collapsed": false,
     "input": [
      "##### 7. 10001st prime\n",
      "import scipy\n",
      "import pyprimes\n",
      "pyprimes"
     ],
     "language": "python",
     "metadata": {},
     "outputs": [
      {
       "output_type": "pyout",
       "prompt_number": 30,
       "text": [
        "<module 'pyprimes' from '/Users/hapforever/anaconda/lib/python2.7/site-packages/pyprimes.pyc'>"
       ]
      }
     ],
     "prompt_number": 30
    },
    {
     "cell_type": "code",
     "collapsed": false,
     "input": [
      "pyprimes.nth_prime(10001)"
     ],
     "language": "python",
     "metadata": {},
     "outputs": [
      {
       "output_type": "pyout",
       "prompt_number": 31,
       "text": [
        "104743"
       ]
      }
     ],
     "prompt_number": 31
    },
    {
     "cell_type": "code",
     "collapsed": false,
     "input": [
      "limit = 0\n",
      "limit += 1"
     ],
     "language": "python",
     "metadata": {},
     "outputs": [
      {
       "output_type": "pyout",
       "prompt_number": 39,
       "text": [
        "1"
       ]
      }
     ],
     "prompt_number": 39
    },
    {
     "cell_type": "code",
     "collapsed": false,
     "input": [
      "%cython\n",
      " \n",
      "import time\n",
      "from libc.stdlib cimport malloc, free\n",
      " \n",
      "# a function to sum all prime numbers below a given number\n",
      "cdef fast_nth_prime(unsigned long n,unsigned long limit = 125000):\n",
      "    cdef bint *primes = <bint *>malloc(limit * sizeof(bint))\n",
      "    primes[0] = 0\n",
      "    primes[1] = 0\n",
      "    cdef unsigned long count = 0\n",
      "    cdef unsigned long j, index = 0\n",
      "    while index < limit:\n",
      "        primes[index] = 1\n",
      "        index += 1\n",
      "    index = 2\n",
      "    while index < limit:\n",
      "        if primes[index] == 1:\n",
      "            j = index ** 2\n",
      "            while j < limit:\n",
      "                primes[j] = 0\n",
      "                j += index\n",
      "            count += 1\n",
      "        if count == n:\n",
      "            free(primes)\n",
      "            return index\n",
      "        index += 1\n",
      "    free(primes)\n",
      "    return False\n",
      " \n",
      "start = time.time()\n",
      "prime = fast_nth_prime(10001)\n",
      "elapsed = (time.time() - start)\n",
      " \n",
      "print \"found %s in %s seconds\" % (prime,elapsed)"
     ],
     "language": "python",
     "metadata": {},
     "outputs": [
      {
       "ename": "SyntaxError",
       "evalue": "invalid syntax (<ipython-input-33-f02f1e2855cc>, line 4)",
       "output_type": "pyerr",
       "traceback": [
        "\u001b[0;36m  File \u001b[0;32m\"<ipython-input-33-f02f1e2855cc>\"\u001b[0;36m, line \u001b[0;32m4\u001b[0m\n\u001b[0;31m    from libc.stdlib cimport malloc, free\u001b[0m\n\u001b[0m                           ^\u001b[0m\n\u001b[0;31mSyntaxError\u001b[0m\u001b[0;31m:\u001b[0m invalid syntax\n"
       ]
      }
     ],
     "prompt_number": 33
    },
    {
     "cell_type": "code",
     "collapsed": false,
     "input": [],
     "language": "python",
     "metadata": {},
     "outputs": []
    }
   ],
   "metadata": {}
  }
 ]
}